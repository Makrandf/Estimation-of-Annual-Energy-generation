{
 "cells": [
  {
   "cell_type": "code",
   "execution_count": null,
   "metadata": {},
   "outputs": [],
   "source": [
    "import pvlib\n",
    "import pandas as pd"
   ]
  },
  {
   "cell_type": "code",
   "execution_count": null,
   "metadata": {},
   "outputs": [],
   "source": [
    "location_latitude=19.076\n",
    "location_longitude=72.8777"
   ]
  },
  {
   "cell_type": "markdown",
   "metadata": {},
   "source": [
    "# Q1"
   ]
  },
  {
   "cell_type": "markdown",
   "metadata": {},
   "source": [
    "# PVlib"
   ]
  },
  {
   "cell_type": "markdown",
   "metadata": {},
   "source": [
    "# calculate solar zenith solar azimuth"
   ]
  },
  {
   "cell_type": "code",
   "execution_count": null,
   "metadata": {},
   "outputs": [],
   "source": [
    "time_hour = pd.date_range(start ='2015-01-01 01:00', freq ='H',  periods =8760, tz ='Asia/Calcutta') # date_range bcpz pythongave error for Datetime"
   ]
  },
  {
   "cell_type": "code",
   "execution_count": null,
   "metadata": {},
   "outputs": [],
   "source": [
    "solarpos=pvlib.solarposition.get_solarposition(time=time_hour,latitude=location_latitude, longitude=location_longitude, altitude=None, pressure=None, method='nrel_numpy')"
   ]
  },
  {
   "cell_type": "code",
   "execution_count": null,
   "metadata": {},
   "outputs": [],
   "source": [
    "location_tilt=location_latitude\n",
    "location_azimuth=180 #south facing"
   ]
  },
  {
   "cell_type": "markdown",
   "metadata": {},
   "source": [
    "# calculate aoi"
   ]
  },
  {
   "cell_type": "code",
   "execution_count": null,
   "metadata": {},
   "outputs": [],
   "source": [
    "irr_aoi=pvlib.irradiance.aoi(surface_tilt=location_tilt, surface_azimuth=location_azimuth, solar_zenith=solarpos.zenith, solar_azimuth=solarpos.azimuth)"
   ]
  },
  {
   "cell_type": "code",
   "execution_count": null,
   "metadata": {},
   "outputs": [],
   "source": [
    "df1=pd.DataFrame(irr_aoi)  "
   ]
  },
  {
   "cell_type": "code",
   "execution_count": null,
   "metadata": {},
   "outputs": [],
   "source": [
    "df1.to_csv('E:\\IITB Sem 2\\EE770\\Assignment 4\\leh_aoi.csv') #Change"
   ]
  },
  {
   "cell_type": "code",
   "execution_count": null,
   "metadata": {},
   "outputs": [],
   "source": [
    "df1=pd.read_csv('E:\\IITB Sem 2\\EE770\\Assignment 4\\leh_aoi.csv') # bcoz irr_aoi has timestamp #Change"
   ]
  },
  {
   "cell_type": "code",
   "execution_count": null,
   "metadata": {},
   "outputs": [],
   "source": [
    "df_aoi=df1[\"aoi\"]"
   ]
  },
  {
   "cell_type": "markdown",
   "metadata": {},
   "source": [
    "# call tmy files"
   ]
  },
  {
   "cell_type": "code",
   "execution_count": null,
   "metadata": {},
   "outputs": [],
   "source": [
    "df=pd.read_csv('E:\\IITB Sem 2\\EE770\\Assignment 4\\EE770_Leh.csv') #Change"
   ]
  },
  {
   "cell_type": "code",
   "execution_count": null,
   "metadata": {},
   "outputs": [],
   "source": [
    "#df"
   ]
  },
  {
   "cell_type": "code",
   "execution_count": null,
   "metadata": {},
   "outputs": [],
   "source": [
    "#df[\"RH(%)\"]"
   ]
  },
  {
   "cell_type": "markdown",
   "metadata": {},
   "source": [
    "# calculate gnd_diffuse"
   ]
  },
  {
   "cell_type": "code",
   "execution_count": null,
   "metadata": {},
   "outputs": [],
   "source": [
    "df_ghi=df[\"Gh(W/m2)\"]\n",
    "gnd_diffuse=pvlib.irradiance.get_ground_diffuse(surface_tilt=location_tilt, ghi=df_ghi, albedo=0.25, surface_type=None)"
   ]
  },
  {
   "cell_type": "code",
   "execution_count": null,
   "metadata": {},
   "outputs": [],
   "source": [
    "#df_ghi"
   ]
  },
  {
   "cell_type": "markdown",
   "metadata": {},
   "source": [
    "# calculate sky_diffuse"
   ]
  },
  {
   "cell_type": "code",
   "execution_count": null,
   "metadata": {},
   "outputs": [],
   "source": [
    "df_dhi=df[\"Gdhi(W/m2)\"]\n",
    "df_dni=df[\"Gdni(W/m2)\"]"
   ]
  },
  {
   "cell_type": "code",
   "execution_count": null,
   "metadata": {},
   "outputs": [],
   "source": [
    "s_diffuse= pvlib.irradiance.get_sky_diffuse(surface_tilt=location_tilt, surface_azimuth=location_azimuth, solar_zenith=solarpos.zenith, solar_azimuth=solarpos.azimuth, dni=df_dni, ghi=df_ghi, dhi=df_dhi, dni_extra=None, airmass=None)"
   ]
  },
  {
   "cell_type": "code",
   "execution_count": null,
   "metadata": {},
   "outputs": [],
   "source": [
    "irr_poa=pvlib.irradiance.poa_components(aoi=df_aoi, dni=df_dni, poa_sky_diffuse=s_diffuse, poa_ground_diffuse=gnd_diffuse)"
   ]
  },
  {
   "cell_type": "code",
   "execution_count": null,
   "metadata": {},
   "outputs": [],
   "source": [
    "#print(irr_poa)"
   ]
  },
  {
   "cell_type": "code",
   "execution_count": null,
   "metadata": {},
   "outputs": [],
   "source": [
    "df2=pd.DataFrame(irr_poa)"
   ]
  },
  {
   "cell_type": "code",
   "execution_count": null,
   "metadata": {},
   "outputs": [],
   "source": [
    "df2.to_csv('E:\\IITB Sem 2\\EE770\\Assignment 4\\leh_PVlib_poa.csv') #Change"
   ]
  },
  {
   "cell_type": "markdown",
   "metadata": {},
   "source": [
    "# Sandia model"
   ]
  },
  {
   "cell_type": "markdown",
   "metadata": {},
   "source": [
    "# Calculate Eb"
   ]
  },
  {
   "cell_type": "code",
   "execution_count": null,
   "metadata": {},
   "outputs": [],
   "source": [
    "import math\n",
    "import numpy as np"
   ]
  },
  {
   "cell_type": "code",
   "execution_count": null,
   "metadata": {},
   "outputs": [],
   "source": [
    "solarzen=solarpos.zenith.tolist()\n",
    "solarazi=solarpos.azimuth.tolist()"
   ]
  },
  {
   "cell_type": "code",
   "execution_count": null,
   "metadata": {
    "scrolled": true
   },
   "outputs": [],
   "source": [
    "rlocation_tilt=math.radians(location_tilt)\n",
    "rlocation_azimuth=math.radians(location_azimuth)\n",
    "rsolarzen=np.radians(solarzen)\n",
    "rsolarazi=np.radians(solarazi)"
   ]
  },
  {
   "cell_type": "code",
   "execution_count": null,
   "metadata": {},
   "outputs": [],
   "source": [
    "rsolarzen1=rsolarzen.tolist()\n",
    "rsolarazi1=rsolarazi.tolist()"
   ]
  },
  {
   "cell_type": "code",
   "execution_count": null,
   "metadata": {},
   "outputs": [],
   "source": [
    "from math import cos\n",
    "from math import sin\n",
    "from math import acos"
   ]
  },
  {
   "cell_type": "code",
   "execution_count": null,
   "metadata": {},
   "outputs": [],
   "source": [
    "irr_aoi1=[]\n",
    "for i in range(8760):\n",
    "    irraoi=math.acos((cos(rsolarzen[i])*cos(rlocation_tilt))+(sin(rsolarzen[i])*sin(rlocation_tilt)*cos(rsolarazi[i]-rlocation_azimuth)))\n",
    "    irr_aoi1.append(irraoi)"
   ]
  },
  {
   "cell_type": "code",
   "execution_count": null,
   "metadata": {},
   "outputs": [],
   "source": [
    "df_dhi1=df_dhi.tolist() \n",
    "df_dni1=df_dni.tolist()\n",
    "df_ghi1=df_ghi.tolist()"
   ]
  },
  {
   "cell_type": "code",
   "execution_count": null,
   "metadata": {},
   "outputs": [],
   "source": [
    "Ebeam=[]\n",
    "for i in range(8760):\n",
    "    Eb=df_dni1[i]*cos(irr_aoi1[i])\n",
    "    Ebeam.append(Eb)"
   ]
  },
  {
   "cell_type": "markdown",
   "metadata": {},
   "source": [
    "# Calculate poa gnd_reflect"
   ]
  },
  {
   "cell_type": "code",
   "execution_count": null,
   "metadata": {},
   "outputs": [],
   "source": [
    "Egnd=[]\n",
    "for i in range(8760):\n",
    "    Eg=df_ghi1[i]*0.25*((1-cos(rlocation_tilt))/2)\n",
    "    Egnd.append(Eg)"
   ]
  },
  {
   "cell_type": "markdown",
   "metadata": {},
   "source": [
    "# Calculate poa sk"
   ]
  },
  {
   "cell_type": "code",
   "execution_count": null,
   "metadata": {},
   "outputs": [],
   "source": [
    "Ediff=[]\n",
    "for i in range(8760):\n",
    "    Ed=df_dhi1[i]*((1+cos(rlocation_tilt))/2)\n",
    "    Ediff.append(Ed)"
   ]
  },
  {
   "cell_type": "markdown",
   "metadata": {},
   "source": [
    "# calculate poa"
   ]
  },
  {
   "cell_type": "code",
   "execution_count": null,
   "metadata": {},
   "outputs": [],
   "source": [
    "irr_poa1=[]\n",
    "for i in range(8760):\n",
    "    poa1=Ebeam[i]+Egnd[i]+Ediff[i]\n",
    "    irr_poa1.append(poa1)\n",
    "    "
   ]
  },
  {
   "cell_type": "code",
   "execution_count": null,
   "metadata": {},
   "outputs": [],
   "source": [
    "df3=pd.DataFrame(irr_poa1)"
   ]
  },
  {
   "cell_type": "code",
   "execution_count": null,
   "metadata": {},
   "outputs": [],
   "source": [
    "df3.to_csv('E:\\IITB Sem 2\\EE770\\Assignment 4\\leh_sandia_poa.csv') #Change"
   ]
  },
  {
   "cell_type": "markdown",
   "metadata": {},
   "source": [
    "# calculate hourly temperature"
   ]
  },
  {
   "cell_type": "code",
   "execution_count": null,
   "metadata": {},
   "outputs": [],
   "source": [
    "df_amb=df[\"amb_temp(C.)\"]"
   ]
  },
  {
   "cell_type": "code",
   "execution_count": null,
   "metadata": {},
   "outputs": [],
   "source": [
    "df_ws=df[\"ws(m/s)\"]"
   ]
  },
  {
   "cell_type": "code",
   "execution_count": null,
   "metadata": {},
   "outputs": [],
   "source": [
    "module_temp=pvlib.temperature.sapm_module(poa_global=df2[\"poa_global\"], temp_air=df_amb, wind_speed=df_ws, a=-3.56, b=-0.075)"
   ]
  },
  {
   "cell_type": "code",
   "execution_count": null,
   "metadata": {},
   "outputs": [],
   "source": [
    "#df_ws1=df_ws.tolist()\n",
    "#f_amb1=df_amb.tolist()"
   ]
  },
  {
   "cell_type": "code",
   "execution_count": null,
   "metadata": {},
   "outputs": [],
   "source": [
    "#module_temp1=[]\n",
    "#for i in range(8760):\n",
    "    #mod=irr_poa1[i]*math.exp(-3.56+(-0.0750*df_ws1[i]))+df_amb1[i]\n",
    "    #module_temp1.append(mod)"
   ]
  },
  {
   "cell_type": "code",
   "execution_count": null,
   "metadata": {},
   "outputs": [],
   "source": [
    "df=pd.DataFrame(module_temp)\n",
    "df.to_csv('E:\\IITB Sem 2\\EE770\\Assignment 4\\leh_temp.csv') #Change"
   ]
  },
  {
   "cell_type": "markdown",
   "metadata": {},
   "source": [
    "# Q2 box plot"
   ]
  },
  {
   "cell_type": "code",
   "execution_count": null,
   "metadata": {},
   "outputs": [],
   "source": [
    "import matplotlib.pyplot as plt"
   ]
  },
  {
   "cell_type": "code",
   "execution_count": null,
   "metadata": {},
   "outputs": [],
   "source": [
    "plt.boxplot(module_temp)\n",
    "plt.title('Leh Module Temp') #Change\n",
    "plt.ylabel('Temp in C')\n",
    "plt.show()"
   ]
  },
  {
   "cell_type": "code",
   "execution_count": null,
   "metadata": {},
   "outputs": [],
   "source": [
    "plt.boxplot(df2[\"poa_global\"])\n",
    "plt.title('Leh Plane of array Irradiance') #Change\n",
    "plt.ylabel('Irr in W/m2')\n",
    "plt.show()"
   ]
  },
  {
   "cell_type": "code",
   "execution_count": null,
   "metadata": {},
   "outputs": [],
   "source": [
    "plt.boxplot(df_amb)\n",
    "plt.title('Leh Ambient Temp') #Change\n",
    "plt.ylabel('Temp in C')\n",
    "plt.show()"
   ]
  },
  {
   "cell_type": "code",
   "execution_count": null,
   "metadata": {},
   "outputs": [],
   "source": [
    "plt.boxplot(df_ws)\n",
    "plt.title('Leh Wind speed') #Change\n",
    "plt.ylabel('Speen in m/s')\n",
    "plt.show()"
   ]
  },
  {
   "cell_type": "markdown",
   "metadata": {},
   "source": [
    "# Q3"
   ]
  },
  {
   "cell_type": "code",
   "execution_count": null,
   "metadata": {},
   "outputs": [],
   "source": [
    "from scipy.optimize import fsolve\n"
   ]
  },
  {
   "cell_type": "code",
   "execution_count": null,
   "metadata": {},
   "outputs": [],
   "source": [
    "Rs_STC= 0.21721509749730586\n",
    "Rsh_STC= 1104.8948729303456\n",
    "Iph_STC= 8.841737886118327\n",
    "Isat_STC= 2.1922584839244864e-07\n",
    "eta= 1.3974467720580908\n",
    "Vt_STC= 0.02571543749999999\n",
    "Ncell=72\n",
    "Voc_STC= 45.300000000011885\n",
    "Isc_STC= 8.839999758809823\n",
    "Pmax_STC= 300.1199710523156\n",
    "FF_STC= 0.7494530661370086\n",
    "alpha=0.005304 #alpha(A/degC)\n",
    "Kb = 1.38 * (10**-23)\n",
    "q = 1.6 * (10**-19)"
   ]
  },
  {
   "cell_type": "code",
   "execution_count": null,
   "metadata": {},
   "outputs": [],
   "source": [
    "G_STC=1000\n",
    "T_STC=298 #radians\n",
    "Ksc=0.997951 # considering NOCT values\n",
    "Eg=1.14\n",
    "T1=module_temp.tolist()\n",
    "T=[x + 273 for x in module_temp] \n",
    "G=df2[\"poa_global\"].tolist()"
   ]
  },
  {
   "cell_type": "code",
   "execution_count": null,
   "metadata": {},
   "outputs": [],
   "source": [
    "Voc_T=[]\n",
    "Isc_T=[]\n",
    "Iph_T=[]\n",
    "Isat_T=[]\n",
    "Vt_T=[]\n",
    "Rsh_T=[]\n",
    "for i in range(8760):\n",
    "    if G[i]==0:\n",
    "        Voc_T.append(0)\n",
    "        Isc_T.append(0)\n",
    "        Iph_T.append(0)\n",
    "        Isat_T.append(0)\n",
    "        Vt_T.append(0)\n",
    "        Rsh_T.append(0)\n",
    "    else:\n",
    "        Vt = (Kb * T[i]) / q\n",
    "        Isc_GT= ((G[i]/G_STC)**Ksc) * (Isc_STC+alpha*(T[i]-T_STC))\n",
    "        Rs_GT=Rs_STC\n",
    "        Rsh_GT=(G_STC/G[i])*Rsh_STC\n",
    "        Iph_GT= Isc_GT*(1+(Rs_GT/Rsh_GT))\n",
    "        Isat_GT= Isat_STC * ((T[i]/T_STC)**3) * np.exp(((q*Eg)/(eta*Kb))*((1/T_STC)-(1/T[i])))\n",
    "        def V_oc(x):\n",
    "            Voc=x[0]\n",
    "            F=np.zeros(np.size(x))\n",
    "            F[0]= Iph_GT-Isat_GT*(np.exp(Voc/(eta*Ncell*Vt)))- (Voc/Rsh_GT)\n",
    "            return F\n",
    "\n",
    "        x=fsolve(V_oc,100)\n",
    "        Voc_T.extend(x)\n",
    "        Isc_T.append(Isc_GT)\n",
    "        Iph_T.append(Iph_GT)\n",
    "        Isat_T.append(Isat_GT)\n",
    "        Vt_T.append(Vt)\n",
    "        Rsh_T.append(Rsh_GT)\n"
   ]
  },
  {
   "cell_type": "code",
   "execution_count": null,
   "metadata": {},
   "outputs": [],
   "source": [
    "rows=8760\n",
    "V2= [[0 for k in range(0)] for j in range(rows)] #Creating array inside an array \n",
    "I2= [[0 for k in range(0)] for j in range(rows)] "
   ]
  },
  {
   "cell_type": "code",
   "execution_count": null,
   "metadata": {},
   "outputs": [],
   "source": [
    "for i in range(8760):\n",
    "    def I_sc(x):\n",
    "        I=x[0]\n",
    "        F=np.zeros(np.size(x))\n",
    "        F[0]= -I + Iph_T[i] - Isat_T[i]*(np.exp((V1+I*Rs_GT) / (eta*Ncell*Vt_T[i]))-1) - (V1+I*Rs_GT)/Rsh_T[i]\n",
    "        return F\n",
    "    Vx=np.linspace(0,Voc_T[i],num=256)\n",
    "    for V1 in Vx:\n",
    "        if G[i]==0:\n",
    "            I2[i].append(0)\n",
    "            V2[i].append(0)\n",
    "        else:\n",
    "            x = fsolve(I_sc,Iph_STC)\n",
    "            I2[i].extend(x)\n",
    "            V2[i].append(V1)"
   ]
  },
  {
   "cell_type": "code",
   "execution_count": null,
   "metadata": {},
   "outputs": [],
   "source": [
    "len(V2[1])"
   ]
  },
  {
   "cell_type": "code",
   "execution_count": null,
   "metadata": {},
   "outputs": [],
   "source": [
    "len(I2[1])"
   ]
  },
  {
   "cell_type": "code",
   "execution_count": null,
   "metadata": {},
   "outputs": [],
   "source": [
    "P2=[]\n",
    "Pmax2=[]\n",
    "for i in range(8760):\n",
    "    P2=np.multiply(V2[i],I2[i])\n",
    "    Pmax2.append(np.amax(P2))"
   ]
  },
  {
   "cell_type": "code",
   "execution_count": null,
   "metadata": {},
   "outputs": [],
   "source": [
    "len(Pmax2)"
   ]
  },
  {
   "cell_type": "code",
   "execution_count": null,
   "metadata": {},
   "outputs": [],
   "source": [
    "df_Pmax=pd.DataFrame(Pmax2)"
   ]
  },
  {
   "cell_type": "code",
   "execution_count": null,
   "metadata": {},
   "outputs": [],
   "source": [
    "df_Pmax.to_csv('E:\\IITB Sem 2\\EE770\\Assignment 4\\leh_Power.csv') #Change"
   ]
  },
  {
   "cell_type": "code",
   "execution_count": null,
   "metadata": {},
   "outputs": [],
   "source": [
    "np.sum(Pmax2)"
   ]
  },
  {
   "cell_type": "code",
   "execution_count": null,
   "metadata": {},
   "outputs": [],
   "source": [
    "df_poa1=pd.read_csv('E:\\IITB Sem 2\\EE770\\Assignment 4\\jaipur_PVlib_poa.csv')"
   ]
  },
  {
   "cell_type": "code",
   "execution_count": null,
   "metadata": {},
   "outputs": [],
   "source": [
    "df_poa2=pd.read_csv('E:\\IITB Sem 2\\EE770\\Assignment 4\\jaipur_sandia_poa.csv')"
   ]
  },
  {
   "cell_type": "code",
   "execution_count": null,
   "metadata": {},
   "outputs": [],
   "source": [
    "#df_poa1[\"poa_global\"]"
   ]
  },
  {
   "cell_type": "code",
   "execution_count": null,
   "metadata": {},
   "outputs": [],
   "source": [
    "plt.plot(df_poa1[\"poa_global\"])\n",
    "plt.title('Jaipur Hourly POA (pvlib)') #Change\n",
    "plt.xlabel('Time in Hours')\n",
    "plt.ylabel('Irr in W/m2')\n",
    "plt.xticks(np.arange(0,10000,1000))\n",
    "plt.axis([0, 9000, 0, 1200])\n",
    "plt.show()"
   ]
  },
  {
   "cell_type": "code",
   "execution_count": null,
   "metadata": {},
   "outputs": [],
   "source": [
    "plt.plot(df_poa2,color='tab:blue')\n",
    "plt.title('Jaipur Hourly POA (sandia)') #Change\n",
    "plt.xlabel('Time in Hours')\n",
    "plt.ylabel('Irr in W/m2')\n",
    "plt.xticks(np.arange(0,10000,1000))\n",
    "plt.axis([0, 9000, 0, 1200])\n",
    "plt.show()"
   ]
  },
  {
   "cell_type": "code",
   "execution_count": null,
   "metadata": {},
   "outputs": [],
   "source": [
    "df_temp=pd.read_csv('E:\\IITB Sem 2\\EE770\\Assignment 4\\jaipur_temp.csv')"
   ]
  },
  {
   "cell_type": "code",
   "execution_count": null,
   "metadata": {},
   "outputs": [],
   "source": [
    "plt.plot(df_temp,color='tab:blue')\n",
    "plt.title('Jaipur Hourly Module Temperature') #Change\n",
    "plt.ylabel('Temp in C')\n",
    "plt.xticks(np.arange(0,10000,1000))\n",
    "plt.axis([0, 9000,0, 70])\n",
    "plt.show()"
   ]
  },
  {
   "cell_type": "code",
   "execution_count": null,
   "metadata": {},
   "outputs": [],
   "source": [
    "df_power=pd.read_csv('E:\\IITB Sem 2\\EE770\\Assignment 4\\leh_Power.csv')"
   ]
  },
  {
   "cell_type": "code",
   "execution_count": null,
   "metadata": {},
   "outputs": [],
   "source": [
    "plt.plot(df_power,color='tab:blue')\n",
    "plt.title('Leh Annual Energy generation ') #Change\n",
    "plt.ylabel('P in watts')\n",
    "plt.xlabel('Time in Hours')\n",
    "plt.xticks(np.arange(0,10000,1000))\n",
    "plt.axis([0, 9000,0, 350])\n",
    "plt.show()"
   ]
  },
  {
   "cell_type": "code",
   "execution_count": null,
   "metadata": {},
   "outputs": [],
   "source": []
  },
  {
   "cell_type": "code",
   "execution_count": null,
   "metadata": {},
   "outputs": [],
   "source": []
  }
 ],
 "metadata": {
  "kernelspec": {
   "display_name": "Python 3",
   "language": "python",
   "name": "python3"
  },
  "language_info": {
   "codemirror_mode": {
    "name": "ipython",
    "version": 3
   },
   "file_extension": ".py",
   "mimetype": "text/x-python",
   "name": "python",
   "nbconvert_exporter": "python",
   "pygments_lexer": "ipython3",
   "version": "3.7.3"
  }
 },
 "nbformat": 4,
 "nbformat_minor": 2
}
